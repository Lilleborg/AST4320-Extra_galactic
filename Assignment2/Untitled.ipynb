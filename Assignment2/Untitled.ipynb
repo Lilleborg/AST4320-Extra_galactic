{
 "cells": [
  {
   "cell_type": "code",
   "execution_count": 1,
   "metadata": {},
   "outputs": [],
   "source": [
    "import numpy as np\n",
    "from math import pi,sqrt\n",
    "import matplotlib.pyplot as plt\n",
    "from tqdm import tqdm\n",
    "\n",
    "plt.style.use('bmh')\n",
    "\n",
    "\n",
    "class RandomWalk:\n",
    "\n",
    "    max_iter = int(1e7)\n",
    "    Nr_walks = int(1e5)\n",
    "\n",
    "    def __init__(self,epsilon=1e-1,init_var=0.95e-4):#,N=1e5,max_iter=1e4):\n",
    "        self.epsilon = epsilon\n",
    "        self.var = init_var\n",
    "        #self.k = 2*pi/(pi/self.var)**(1/4)\n",
    "        self.Sc = (pi/self.var)**(1/4)\n",
    "        self.k = 2*pi/self.Sc\n",
    "        self.delta = np.random.normal(scale=sqrt(self.var))\n",
    "        \n",
    "        #self.N = N\n",
    "        #self.max_iter = max_iter\n",
    "\n",
    "    def reset(self,epsilon=1e-1,init_var=0.9e-4):\n",
    "        self.__init__(epsilon=epsilon,init_var=init_var)\n",
    "\n",
    "    def get_var(self):\n",
    "        return np.pi/self.Sc**4\n",
    "\n",
    "    def set_new_Sc(self):\n",
    "        self.Sc -= self.epsilon\n",
    "\n",
    "    def one_walk(self):\n",
    "\n",
    "        self.reset()\n",
    "        iter_nr = 0\n",
    "        while self.Sc > 1.0 and iter_nr < self.max_iter:\n",
    "            self.set_new_Sc()\n",
    "            inter_var = self.get_var() - self.var\n",
    "            self.delta += np.random.normal(scale=sqrt(inter_var))\n",
    "            self.var = self.get_var()\n",
    "\n",
    "        return self.delta\n",
    "\n",
    "    def many_walks(self):\n",
    "        deltas = np.zeros(self.Nr_walks)\n",
    "        for i in tqdm(range(self.Nr_walks)):\n",
    "            deltas[i] = self.one_walk()\n",
    "\n",
    "        self.deltas = deltas\n",
    "        \n",
    "    \n"
   ]
  },
  {
   "cell_type": "code",
   "execution_count": 2,
   "metadata": {},
   "outputs": [
    {
     "name": "stderr",
     "output_type": "stream",
     "text": [
      "100%|██████████| 100000/100000 [00:32<00:00, 3055.82it/s]\n"
     ]
    }
   ],
   "source": [
    "RW = RandomWalk()\n",
    "RW.many_walks()"
   ]
  },
  {
   "cell_type": "code",
   "execution_count": 5,
   "metadata": {},
   "outputs": [
    {
     "data": {
      "image/png": "[encoded data removed]",
      "text/plain": [
       "<Figure size 432x288 with 1 Axes>"
      ]
     },
     "metadata": {
      "needs_background": "light"
     },
     "output_type": "display_data"
    }
   ],
   "source": [
    "plt.hist(RW.deltas,bins='auto',density=True);"
   ]
  },
  {
   "cell_type": "code",
   "execution_count": null,
   "metadata": {},
   "outputs": [],
   "source": []
  }
 ],
 "metadata": {
  "kernelspec": {
   "display_name": "Python 3",
   "language": "python",
   "name": "python3"
  },
  "language_info": {
   "codemirror_mode": {
    "name": "ipython",
    "version": 3
   },
   "file_extension": ".py",
   "mimetype": "text/x-python",
   "name": "python",
   "nbconvert_exporter": "python",
   "pygments_lexer": "ipython3",
   "version": "3.7.1"
  }
 },
 "nbformat": 4,
 "nbformat_minor": 4
}
